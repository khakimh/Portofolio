{
 "cells": [
  {
   "cell_type": "markdown",
   "metadata": {},
   "source": [
    "## Overview"
   ]
  },
  {
   "cell_type": "markdown",
   "metadata": {},
   "source": [
    "We are going to create machine learning model to detect spam comment. You can do prediction using this model through API. You can see the API documentation in the end of page"
   ]
  },
  {
   "cell_type": "markdown",
   "metadata": {},
   "source": [
    "### Import libraries"
   ]
  },
  {
   "cell_type": "code",
   "execution_count": 1,
   "metadata": {},
   "outputs": [],
   "source": [
    "import pandas as pd\n",
    "from unicodedata import *\n",
    "import string\n",
    "import seaborn as sns\n",
    "import matplotlib.pyplot as plt"
   ]
  },
  {
   "cell_type": "code",
   "execution_count": 2,
   "metadata": {},
   "outputs": [],
   "source": [
    "import spacy\n",
    "nlp = spacy.load('en_core_web_sm')"
   ]
  },
  {
   "cell_type": "markdown",
   "metadata": {},
   "source": [
    "### Read excel file "
   ]
  },
  {
   "cell_type": "code",
   "execution_count": 3,
   "metadata": {},
   "outputs": [],
   "source": [
    "df = pd.read_excel('Comment Spam.xls')\n",
    "df = df.drop('No', axis=1)"
   ]
  },
  {
   "cell_type": "code",
   "execution_count": 4,
   "metadata": {},
   "outputs": [
    {
     "data": {
      "text/html": [
       "<div>\n",
       "<style scoped>\n",
       "    .dataframe tbody tr th:only-of-type {\n",
       "        vertical-align: middle;\n",
       "    }\n",
       "\n",
       "    .dataframe tbody tr th {\n",
       "        vertical-align: top;\n",
       "    }\n",
       "\n",
       "    .dataframe thead th {\n",
       "        text-align: right;\n",
       "    }\n",
       "</style>\n",
       "<table border=\"1\" class=\"dataframe\">\n",
       "  <thead>\n",
       "    <tr style=\"text-align: right;\">\n",
       "      <th></th>\n",
       "      <th>Comment</th>\n",
       "      <th>Class</th>\n",
       "    </tr>\n",
       "  </thead>\n",
       "  <tbody>\n",
       "    <tr>\n",
       "      <th>0</th>\n",
       "      <td>this song is racist</td>\n",
       "      <td>0</td>\n",
       "    </tr>\n",
       "    <tr>\n",
       "      <th>1</th>\n",
       "      <td>and how many subscribers compared to her over ...</td>\n",
       "      <td>1</td>\n",
       "    </tr>\n",
       "    <tr>\n",
       "      <th>2</th>\n",
       "      <td>HI! CHECK OUT OUR AWESOME COVERS! AND SAY WHAT...</td>\n",
       "      <td>1</td>\n",
       "    </tr>\n",
       "    <tr>\n",
       "      <th>3</th>\n",
       "      <td>well done shakira</td>\n",
       "      <td>0</td>\n",
       "    </tr>\n",
       "    <tr>\n",
       "      <th>4</th>\n",
       "      <td>:D subscribe to me for daily vines</td>\n",
       "      <td>1</td>\n",
       "    </tr>\n",
       "    <tr>\n",
       "      <th>5</th>\n",
       "      <td>Part 2. Holy Mary, pray for us Holy Mother of ...</td>\n",
       "      <td>1</td>\n",
       "    </tr>\n",
       "    <tr>\n",
       "      <th>6</th>\n",
       "      <td>I really can&amp;#39;t comprehend Miley Cyrus , s...</td>\n",
       "      <td>1</td>\n",
       "    </tr>\n",
       "    <tr>\n",
       "      <th>7</th>\n",
       "      <td>Nice song ^_^</td>\n",
       "      <td>0</td>\n",
       "    </tr>\n",
       "    <tr>\n",
       "      <th>8</th>\n",
       "      <td>This makes me miss the world cup</td>\n",
       "      <td>0</td>\n",
       "    </tr>\n",
       "    <tr>\n",
       "      <th>9</th>\n",
       "      <td>******* Facebook is LAME and so 2004! Check ou...</td>\n",
       "      <td>1</td>\n",
       "    </tr>\n",
       "  </tbody>\n",
       "</table>\n",
       "</div>"
      ],
      "text/plain": [
       "                                             Comment  Class\n",
       "0                                this song is racist      0\n",
       "1  and how many subscribers compared to her over ...      1\n",
       "2  HI! CHECK OUT OUR AWESOME COVERS! AND SAY WHAT...      1\n",
       "3                                  well done shakira      0\n",
       "4                 :D subscribe to me for daily vines      1\n",
       "5  Part 2. Holy Mary, pray for us Holy Mother of ...      1\n",
       "6   I really can&#39;t comprehend Miley Cyrus , s...      1\n",
       "7                                      Nice song ^_^      0\n",
       "8                   This makes me miss the world cup      0\n",
       "9  ******* Facebook is LAME and so 2004! Check ou...      1"
      ]
     },
     "execution_count": 4,
     "metadata": {},
     "output_type": "execute_result"
    }
   ],
   "source": [
    "df.head(10)"
   ]
  },
  {
   "cell_type": "markdown",
   "metadata": {},
   "source": [
    "### Exploratory Data Analysts"
   ]
  },
  {
   "cell_type": "markdown",
   "metadata": {},
   "source": [
    "create function to caltulate number of punctuation in each comment"
   ]
  },
  {
   "cell_type": "code",
   "execution_count": 5,
   "metadata": {},
   "outputs": [],
   "source": [
    "def calculate_punctuation(data):\n",
    "    num = 0\n",
    "    for item in data:\n",
    "        if item in string.punctuation:\n",
    "            num += 1\n",
    "    return num"
   ]
  },
  {
   "cell_type": "code",
   "execution_count": 6,
   "metadata": {},
   "outputs": [],
   "source": [
    "df['punctuation_length'] = df['Comment'].apply(calculate_punctuation)"
   ]
  },
  {
   "cell_type": "code",
   "execution_count": 7,
   "metadata": {},
   "outputs": [
    {
     "data": {
      "text/plain": [
       "<matplotlib.axes._subplots.AxesSubplot at 0x1f561421688>"
      ]
     },
     "execution_count": 7,
     "metadata": {},
     "output_type": "execute_result"
    },
    {
     "data": {
      "image/png": "[encoded data removed]",
      "text/plain": [
       "<Figure size 1296x360 with 2 Axes>"
      ]
     },
     "metadata": {},
     "output_type": "display_data"
    }
   ],
   "source": [
    "sns.set_style('whitegrid')\n",
    "fig = plt.figure(figsize = (18,5))\n",
    "plt.subplot(1,2,1)\n",
    "sns.barplot(x='Class', y='punctuation_length', data=df)\n",
    "plt.subplot(1,2,2)\n",
    "sns.distplot(df[df['Class'] == 1]['punctuation_length'], color='darkred', bins=30)\n",
    "sns.distplot(df[df['Class'] == 0]['punctuation_length'], color='blue', bins=30)"
   ]
  },
  {
   "cell_type": "markdown",
   "metadata": {},
   "source": [
    "NOTE: \n",
    "* Spam comment have higher on average number of punctuation than ham comment. There also small range number of punctuation where comment are more likely spam. So we are not going to remove punctuation because it might be important for us"
   ]
  },
  {
   "cell_type": "code",
   "execution_count": 8,
   "metadata": {},
   "outputs": [],
   "source": [
    "df['length'] = df['Comment'].apply(len)"
   ]
  },
  {
   "cell_type": "code",
   "execution_count": 9,
   "metadata": {},
   "outputs": [
    {
     "data": {
      "text/plain": [
       "<matplotlib.axes._subplots.AxesSubplot at 0x1f54b198948>"
      ]
     },
     "execution_count": 9,
     "metadata": {},
     "output_type": "execute_result"
    },
    {
     "data": {
      "image/png": "[encoded data removed]",
      "text/plain": [
       "<Figure size 1296x360 with 2 Axes>"
      ]
     },
     "metadata": {},
     "output_type": "display_data"
    }
   ],
   "source": [
    "sns.set_style('whitegrid')\n",
    "fig = plt.figure(figsize = (18,5))\n",
    "plt.subplot(1,2,1)\n",
    "sns.barplot(x='Class', y='length', data=df)\n",
    "plt.subplot(1,2,2)\n",
    "sns.distplot(df[df['Class'] == 1]['length'], color='darkred', bins=30)\n",
    "sns.distplot(df[df['Class'] == 0]['length'], color='blue', bins=30)"
   ]
  },
  {
   "cell_type": "markdown",
   "metadata": {},
   "source": [
    "NOTE: \n",
    "* We also see that spam comment have higher number of charachter than ham comment. So we are not going to do lematization on text processing so we can keep the length comment as long as posible"
   ]
  },
  {
   "cell_type": "markdown",
   "metadata": {},
   "source": [
    "### Text Pre-processing"
   ]
  },
  {
   "cell_type": "code",
   "execution_count": 10,
   "metadata": {},
   "outputs": [],
   "source": [
    "def processing_text_spam(data):\n",
    "    # removing emoji\n",
    "    data1 = data.encode('ascii', 'ignore').decode('ascii')\n",
    "    \n",
    "    # doing tokenization\n",
    "    data5 = nlp(data1)\n",
    "    data6 = [item for item in data5]\n",
    "    \n",
    "    # removing stop word\n",
    "    data8 = [str(item) for item in data6 if item not in nlp.Defaults.stop_words]\n",
    "    \n",
    "    return ' '.join(data8)"
   ]
  },
  {
   "cell_type": "code",
   "execution_count": 11,
   "metadata": {},
   "outputs": [],
   "source": [
    "df['CommentProcessed'] = df['Comment'].apply(processing_text_spam)"
   ]
  },
  {
   "cell_type": "code",
   "execution_count": 12,
   "metadata": {},
   "outputs": [
    {
     "data": {
      "text/html": [
       "<div>\n",
       "<style scoped>\n",
       "    .dataframe tbody tr th:only-of-type {\n",
       "        vertical-align: middle;\n",
       "    }\n",
       "\n",
       "    .dataframe tbody tr th {\n",
       "        vertical-align: top;\n",
       "    }\n",
       "\n",
       "    .dataframe thead th {\n",
       "        text-align: right;\n",
       "    }\n",
       "</style>\n",
       "<table border=\"1\" class=\"dataframe\">\n",
       "  <thead>\n",
       "    <tr style=\"text-align: right;\">\n",
       "      <th></th>\n",
       "      <th>Comment</th>\n",
       "      <th>Class</th>\n",
       "      <th>punctuation_length</th>\n",
       "      <th>length</th>\n",
       "      <th>CommentProcessed</th>\n",
       "    </tr>\n",
       "  </thead>\n",
       "  <tbody>\n",
       "    <tr>\n",
       "      <th>0</th>\n",
       "      <td>this song is racist</td>\n",
       "      <td>0</td>\n",
       "      <td>0</td>\n",
       "      <td>19</td>\n",
       "      <td>this song is racist</td>\n",
       "    </tr>\n",
       "    <tr>\n",
       "      <th>1</th>\n",
       "      <td>and how many subscribers compared to her over ...</td>\n",
       "      <td>1</td>\n",
       "      <td>0</td>\n",
       "      <td>55</td>\n",
       "      <td>and how many subscribers compared to her over ...</td>\n",
       "    </tr>\n",
       "    <tr>\n",
       "      <th>2</th>\n",
       "      <td>HI! CHECK OUT OUR AWESOME COVERS! AND SAY WHAT...</td>\n",
       "      <td>1</td>\n",
       "      <td>3</td>\n",
       "      <td>57</td>\n",
       "      <td>HI ! CHECK OUT OUR AWESOME COVERS ! AND SAY WH...</td>\n",
       "    </tr>\n",
       "    <tr>\n",
       "      <th>3</th>\n",
       "      <td>well done shakira</td>\n",
       "      <td>0</td>\n",
       "      <td>0</td>\n",
       "      <td>17</td>\n",
       "      <td>well done shakira</td>\n",
       "    </tr>\n",
       "    <tr>\n",
       "      <th>4</th>\n",
       "      <td>:D subscribe to me for daily vines</td>\n",
       "      <td>1</td>\n",
       "      <td>1</td>\n",
       "      <td>34</td>\n",
       "      <td>:D subscribe to me for daily vines</td>\n",
       "    </tr>\n",
       "    <tr>\n",
       "      <th>5</th>\n",
       "      <td>Part 2. Holy Mary, pray for us Holy Mother of ...</td>\n",
       "      <td>1</td>\n",
       "      <td>15</td>\n",
       "      <td>462</td>\n",
       "      <td>Part 2 . Holy Mary , pray for us Holy Mother o...</td>\n",
       "    </tr>\n",
       "    <tr>\n",
       "      <th>6</th>\n",
       "      <td>I really can&amp;#39;t comprehend Miley Cyrus , s...</td>\n",
       "      <td>1</td>\n",
       "      <td>9</td>\n",
       "      <td>244</td>\n",
       "      <td>I really can&amp;#39;t comprehend Miley Cyrus , ...</td>\n",
       "    </tr>\n",
       "    <tr>\n",
       "      <th>7</th>\n",
       "      <td>Nice song ^_^</td>\n",
       "      <td>0</td>\n",
       "      <td>3</td>\n",
       "      <td>13</td>\n",
       "      <td>Nice song ^_^</td>\n",
       "    </tr>\n",
       "    <tr>\n",
       "      <th>8</th>\n",
       "      <td>This makes me miss the world cup</td>\n",
       "      <td>0</td>\n",
       "      <td>0</td>\n",
       "      <td>32</td>\n",
       "      <td>This makes me miss the world cup</td>\n",
       "    </tr>\n",
       "    <tr>\n",
       "      <th>9</th>\n",
       "      <td>******* Facebook is LAME and so 2004! Check ou...</td>\n",
       "      <td>1</td>\n",
       "      <td>22</td>\n",
       "      <td>145</td>\n",
       "      <td>* * * * * * * Facebook is LAME and so 2004 ! C...</td>\n",
       "    </tr>\n",
       "  </tbody>\n",
       "</table>\n",
       "</div>"
      ],
      "text/plain": [
       "                                             Comment  Class  \\\n",
       "0                                this song is racist      0   \n",
       "1  and how many subscribers compared to her over ...      1   \n",
       "2  HI! CHECK OUT OUR AWESOME COVERS! AND SAY WHAT...      1   \n",
       "3                                  well done shakira      0   \n",
       "4                 :D subscribe to me for daily vines      1   \n",
       "5  Part 2. Holy Mary, pray for us Holy Mother of ...      1   \n",
       "6   I really can&#39;t comprehend Miley Cyrus , s...      1   \n",
       "7                                      Nice song ^_^      0   \n",
       "8                   This makes me miss the world cup      0   \n",
       "9  ******* Facebook is LAME and so 2004! Check ou...      1   \n",
       "\n",
       "   punctuation_length  length  \\\n",
       "0                   0      19   \n",
       "1                   0      55   \n",
       "2                   3      57   \n",
       "3                   0      17   \n",
       "4                   1      34   \n",
       "5                  15     462   \n",
       "6                   9     244   \n",
       "7                   3      13   \n",
       "8                   0      32   \n",
       "9                  22     145   \n",
       "\n",
       "                                    CommentProcessed  \n",
       "0                                this song is racist  \n",
       "1  and how many subscribers compared to her over ...  \n",
       "2  HI ! CHECK OUT OUR AWESOME COVERS ! AND SAY WH...  \n",
       "3                                  well done shakira  \n",
       "4                 :D subscribe to me for daily vines  \n",
       "5  Part 2 . Holy Mary , pray for us Holy Mother o...  \n",
       "6    I really can&#39;t comprehend Miley Cyrus , ...  \n",
       "7                                      Nice song ^_^  \n",
       "8                   This makes me miss the world cup  \n",
       "9  * * * * * * * Facebook is LAME and so 2004 ! C...  "
      ]
     },
     "execution_count": 12,
     "metadata": {},
     "output_type": "execute_result"
    }
   ],
   "source": [
    "df.head(10)"
   ]
  },
  {
   "cell_type": "markdown",
   "metadata": {},
   "source": [
    "### Splitting"
   ]
  },
  {
   "cell_type": "code",
   "execution_count": 13,
   "metadata": {},
   "outputs": [],
   "source": [
    "from sklearn.model_selection import train_test_split\n",
    "xTrain, xTest, yTrain, yTest = train_test_split(\n",
    "    df['CommentProcessed'], df['Class'],\n",
    "    test_size = .2\n",
    ")"
   ]
  },
  {
   "cell_type": "code",
   "execution_count": 14,
   "metadata": {},
   "outputs": [],
   "source": [
    "from sklearn.feature_extraction.text import CountVectorizer\n",
    "from sklearn.feature_extraction.text import TfidfTransformer"
   ]
  },
  {
   "cell_type": "markdown",
   "metadata": {},
   "source": [
    "## Naive Bayes"
   ]
  },
  {
   "cell_type": "markdown",
   "metadata": {},
   "source": [
    "### Build a pipeline"
   ]
  },
  {
   "cell_type": "code",
   "execution_count": 15,
   "metadata": {},
   "outputs": [],
   "source": [
    "from sklearn.pipeline import Pipeline\n",
    "from sklearn.naive_bayes import MultinomialNB\n",
    "\n",
    "modelNB = Pipeline([\n",
    "    ('bow', CountVectorizer()), \n",
    "    ('tfidf', TfidfTransformer()), \n",
    "    ('classifier', MultinomialNB()),\n",
    "])"
   ]
  },
  {
   "cell_type": "markdown",
   "metadata": {},
   "source": [
    "### Model Training"
   ]
  },
  {
   "cell_type": "code",
   "execution_count": 16,
   "metadata": {},
   "outputs": [
    {
     "data": {
      "text/plain": [
       "Pipeline(memory=None,\n",
       "         steps=[('bow',\n",
       "                 CountVectorizer(analyzer='word', binary=False,\n",
       "                                 decode_error='strict',\n",
       "                                 dtype=<class 'numpy.int64'>, encoding='utf-8',\n",
       "                                 input='content', lowercase=True, max_df=1.0,\n",
       "                                 max_features=None, min_df=1,\n",
       "                                 ngram_range=(1, 1), preprocessor=None,\n",
       "                                 stop_words=None, strip_accents=None,\n",
       "                                 token_pattern='(?u)\\\\b\\\\w\\\\w+\\\\b',\n",
       "                                 tokenizer=None, vocabulary=None)),\n",
       "                ('tfidf',\n",
       "                 TfidfTransformer(norm='l2', smooth_idf=True,\n",
       "                                  sublinear_tf=False, use_idf=True)),\n",
       "                ('classifier',\n",
       "                 MultinomialNB(alpha=1.0, class_prior=None, fit_prior=True))],\n",
       "         verbose=False)"
      ]
     },
     "execution_count": 16,
     "metadata": {},
     "output_type": "execute_result"
    }
   ],
   "source": [
    "modelNB.fit(xTrain, yTrain)"
   ]
  },
  {
   "cell_type": "markdown",
   "metadata": {},
   "source": [
    "### Model Evaluation"
   ]
  },
  {
   "cell_type": "markdown",
   "metadata": {},
   "source": [
    "#### Train Evaluation"
   ]
  },
  {
   "cell_type": "code",
   "execution_count": 17,
   "metadata": {},
   "outputs": [],
   "source": [
    "from sklearn.metrics import classification_report, confusion_matrix, roc_curve, auc, roc_auc_score, accuracy_score, recall_score, precision_score, f1_score"
   ]
  },
  {
   "cell_type": "code",
   "execution_count": 18,
   "metadata": {},
   "outputs": [
    {
     "name": "stdout",
     "output_type": "stream",
     "text": [
      "              precision    recall  f1-score   support\n",
      "\n",
      "           0       0.98      0.95      0.96       489\n",
      "           1       0.96      0.98      0.97       551\n",
      "\n",
      "    accuracy                           0.97      1040\n",
      "   macro avg       0.97      0.97      0.97      1040\n",
      "weighted avg       0.97      0.97      0.97      1040\n",
      "\n",
      "Accuracy =  96.63\n"
     ]
    },
    {
     "data": {
      "text/html": [
       "<div>\n",
       "<style scoped>\n",
       "    .dataframe tbody tr th:only-of-type {\n",
       "        vertical-align: middle;\n",
       "    }\n",
       "\n",
       "    .dataframe tbody tr th {\n",
       "        vertical-align: top;\n",
       "    }\n",
       "\n",
       "    .dataframe thead th {\n",
       "        text-align: right;\n",
       "    }\n",
       "</style>\n",
       "<table border=\"1\" class=\"dataframe\">\n",
       "  <thead>\n",
       "    <tr style=\"text-align: right;\">\n",
       "      <th></th>\n",
       "      <th>0 - predict</th>\n",
       "      <th>1 - predict</th>\n",
       "    </tr>\n",
       "  </thead>\n",
       "  <tbody>\n",
       "    <tr>\n",
       "      <th>0 - actual</th>\n",
       "      <td>465</td>\n",
       "      <td>24</td>\n",
       "    </tr>\n",
       "    <tr>\n",
       "      <th>1 - actual</th>\n",
       "      <td>11</td>\n",
       "      <td>540</td>\n",
       "    </tr>\n",
       "  </tbody>\n",
       "</table>\n",
       "</div>"
      ],
      "text/plain": [
       "            0 - predict  1 - predict\n",
       "0 - actual          465           24\n",
       "1 - actual           11          540"
      ]
     },
     "execution_count": 18,
     "metadata": {},
     "output_type": "execute_result"
    }
   ],
   "source": [
    "prediction = modelNB.predict(xTrain)\n",
    "print(classification_report(yTrain,prediction))\n",
    "print('Accuracy = ', round(accuracy_score(yTrain,prediction)*100,2))\n",
    "pd.DataFrame(confusion_matrix(yTrain, prediction), columns=['0 - predict', '1 - predict'], index=['0 - actual', '1 - actual'])"
   ]
  },
  {
   "cell_type": "markdown",
   "metadata": {},
   "source": [
    "#### Test Evaluation"
   ]
  },
  {
   "cell_type": "code",
   "execution_count": 19,
   "metadata": {},
   "outputs": [
    {
     "name": "stdout",
     "output_type": "stream",
     "text": [
      "              precision    recall  f1-score   support\n",
      "\n",
      "           0       0.95      0.82      0.88       142\n",
      "           1       0.81      0.95      0.87       118\n",
      "\n",
      "    accuracy                           0.88       260\n",
      "   macro avg       0.88      0.88      0.88       260\n",
      "weighted avg       0.89      0.88      0.88       260\n",
      "\n",
      "Accuracy =  87.69\n"
     ]
    },
    {
     "data": {
      "text/html": [
       "<div>\n",
       "<style scoped>\n",
       "    .dataframe tbody tr th:only-of-type {\n",
       "        vertical-align: middle;\n",
       "    }\n",
       "\n",
       "    .dataframe tbody tr th {\n",
       "        vertical-align: top;\n",
       "    }\n",
       "\n",
       "    .dataframe thead th {\n",
       "        text-align: right;\n",
       "    }\n",
       "</style>\n",
       "<table border=\"1\" class=\"dataframe\">\n",
       "  <thead>\n",
       "    <tr style=\"text-align: right;\">\n",
       "      <th></th>\n",
       "      <th>0 - predict</th>\n",
       "      <th>1 - predict</th>\n",
       "    </tr>\n",
       "  </thead>\n",
       "  <tbody>\n",
       "    <tr>\n",
       "      <th>0 - actual</th>\n",
       "      <td>116</td>\n",
       "      <td>26</td>\n",
       "    </tr>\n",
       "    <tr>\n",
       "      <th>1 - actual</th>\n",
       "      <td>6</td>\n",
       "      <td>112</td>\n",
       "    </tr>\n",
       "  </tbody>\n",
       "</table>\n",
       "</div>"
      ],
      "text/plain": [
       "            0 - predict  1 - predict\n",
       "0 - actual          116           26\n",
       "1 - actual            6          112"
      ]
     },
     "execution_count": 19,
     "metadata": {},
     "output_type": "execute_result"
    }
   ],
   "source": [
    "prediction = modelNB.predict(xTest)\n",
    "print(classification_report(yTest,prediction))\n",
    "print('Accuracy = ', round(accuracy_score(yTest,prediction)*100,2))\n",
    "pd.DataFrame(confusion_matrix(yTest, prediction), columns=['0 - predict', '1 - predict'], index=['0 - actual', '1 - actual'])"
   ]
  },
  {
   "cell_type": "markdown",
   "metadata": {},
   "source": [
    "#### Consistency Evaluation"
   ]
  },
  {
   "cell_type": "markdown",
   "metadata": {},
   "source": [
    "create evaluation function"
   ]
  },
  {
   "cell_type": "code",
   "execution_count": 20,
   "metadata": {},
   "outputs": [],
   "source": [
    "def evaluation(X, Y, model):\n",
    "    prediction = model.predict(X)\n",
    "    precision = precision_score(Y, prediction) * 100\n",
    "    recall = recall_score(Y, prediction) * 100\n",
    "    f1 = f1_score(Y, prediction, average='macro') * 100\n",
    "    accuracy = accuracy_score(Y,prediction) * 100\n",
    "    return {\n",
    "        \"f1\" : f1,\n",
    "        \"precision\" : precision,\n",
    "        \"recall\" : recall,\n",
    "        \"accuracy\" : accuracy\n",
    "    }\n",
    "\n",
    "def calculation_metrics(xTrain, yTrain, xTest, yTest, model):\n",
    "    model.fit(xTrain, yTrain)\n",
    "    train_error = evaluation(xTrain, yTrain, model)\n",
    "    validation_error = evaluation(xTest, yTest, model)\n",
    "    return train_error, validation_error"
   ]
  },
  {
   "cell_type": "markdown",
   "metadata": {},
   "source": [
    "doing evaluation"
   ]
  },
  {
   "cell_type": "code",
   "execution_count": 21,
   "metadata": {},
   "outputs": [],
   "source": [
    "from sklearn.model_selection import KFold\n",
    "kf = KFold(n_splits=10, shuffle=True, random_state=42)\n",
    "data = df['CommentProcessed']\n",
    "target = df['Class']\n",
    "train_error = []\n",
    "validation_error = []\n",
    "for trainIndex, valIndex in kf.split(data, target):\n",
    "    xTrain, xTest = data.iloc[trainIndex], data.iloc[valIndex]\n",
    "    yTrain, yTest = target.iloc[trainIndex], target.iloc[valIndex]\n",
    "    \n",
    "    trainError, valError = calculation_metrics(xTrain, yTrain, xTest, yTest, modelNB)\n",
    "    \n",
    "    train_error.append(trainError)\n",
    "    validation_error.append(valError)"
   ]
  },
  {
   "cell_type": "code",
   "execution_count": 22,
   "metadata": {},
   "outputs": [
    {
     "data": {
      "text/html": [
       "<div>\n",
       "<style scoped>\n",
       "    .dataframe tbody tr th:only-of-type {\n",
       "        vertical-align: middle;\n",
       "    }\n",
       "\n",
       "    .dataframe tbody tr th {\n",
       "        vertical-align: top;\n",
       "    }\n",
       "\n",
       "    .dataframe thead th {\n",
       "        text-align: right;\n",
       "    }\n",
       "</style>\n",
       "<table border=\"1\" class=\"dataframe\">\n",
       "  <thead>\n",
       "    <tr style=\"text-align: right;\">\n",
       "      <th></th>\n",
       "      <th>Train Precision</th>\n",
       "      <th>Train Recall</th>\n",
       "      <th>Train F1 Score</th>\n",
       "      <th>Train Accuracy</th>\n",
       "      <th>-</th>\n",
       "      <th>Test Precision</th>\n",
       "      <th>Test Recall</th>\n",
       "      <th>Test F1 Sccore</th>\n",
       "      <th>Test Accuracy</th>\n",
       "    </tr>\n",
       "  </thead>\n",
       "  <tbody>\n",
       "    <tr>\n",
       "      <th>0</th>\n",
       "      <td>95.928339</td>\n",
       "      <td>97.678275</td>\n",
       "      <td>96.661279</td>\n",
       "      <td>96.666667</td>\n",
       "      <td>-</td>\n",
       "      <td>91.304348</td>\n",
       "      <td>95.454545</td>\n",
       "      <td>93.066667</td>\n",
       "      <td>93.076923</td>\n",
       "    </tr>\n",
       "    <tr>\n",
       "      <th>1</th>\n",
       "      <td>95.928339</td>\n",
       "      <td>98.003328</td>\n",
       "      <td>96.832922</td>\n",
       "      <td>96.837607</td>\n",
       "      <td>-</td>\n",
       "      <td>92.957746</td>\n",
       "      <td>97.058824</td>\n",
       "      <td>94.589452</td>\n",
       "      <td>94.615385</td>\n",
       "    </tr>\n",
       "    <tr>\n",
       "      <th>2</th>\n",
       "      <td>95.686901</td>\n",
       "      <td>98.036007</td>\n",
       "      <td>96.655700</td>\n",
       "      <td>96.666667</td>\n",
       "      <td>-</td>\n",
       "      <td>85.937500</td>\n",
       "      <td>94.827586</td>\n",
       "      <td>90.734141</td>\n",
       "      <td>90.769231</td>\n",
       "    </tr>\n",
       "    <tr>\n",
       "      <th>3</th>\n",
       "      <td>95.695364</td>\n",
       "      <td>97.470489</td>\n",
       "      <td>96.493859</td>\n",
       "      <td>96.495726</td>\n",
       "      <td>-</td>\n",
       "      <td>93.670886</td>\n",
       "      <td>97.368421</td>\n",
       "      <td>94.408602</td>\n",
       "      <td>94.615385</td>\n",
       "    </tr>\n",
       "    <tr>\n",
       "      <th>4</th>\n",
       "      <td>96.387521</td>\n",
       "      <td>97.833333</td>\n",
       "      <td>97.005219</td>\n",
       "      <td>97.008547</td>\n",
       "      <td>-</td>\n",
       "      <td>86.842105</td>\n",
       "      <td>95.652174</td>\n",
       "      <td>89.865067</td>\n",
       "      <td>90.000000</td>\n",
       "    </tr>\n",
       "    <tr>\n",
       "      <th>5</th>\n",
       "      <td>96.320000</td>\n",
       "      <td>98.366013</td>\n",
       "      <td>97.170208</td>\n",
       "      <td>97.179487</td>\n",
       "      <td>-</td>\n",
       "      <td>73.972603</td>\n",
       "      <td>94.736842</td>\n",
       "      <td>83.076923</td>\n",
       "      <td>83.076923</td>\n",
       "    </tr>\n",
       "    <tr>\n",
       "      <th>6</th>\n",
       "      <td>96.563011</td>\n",
       "      <td>98.169717</td>\n",
       "      <td>97.261428</td>\n",
       "      <td>97.264957</td>\n",
       "      <td>-</td>\n",
       "      <td>86.666667</td>\n",
       "      <td>95.588235</td>\n",
       "      <td>89.898990</td>\n",
       "      <td>90.000000</td>\n",
       "    </tr>\n",
       "    <tr>\n",
       "      <th>7</th>\n",
       "      <td>96.387521</td>\n",
       "      <td>97.996661</td>\n",
       "      <td>97.090948</td>\n",
       "      <td>97.094017</td>\n",
       "      <td>-</td>\n",
       "      <td>88.000000</td>\n",
       "      <td>94.285714</td>\n",
       "      <td>89.865067</td>\n",
       "      <td>90.000000</td>\n",
       "    </tr>\n",
       "    <tr>\n",
       "      <th>8</th>\n",
       "      <td>95.967742</td>\n",
       "      <td>98.509934</td>\n",
       "      <td>97.087814</td>\n",
       "      <td>97.094017</td>\n",
       "      <td>-</td>\n",
       "      <td>95.081967</td>\n",
       "      <td>89.230769</td>\n",
       "      <td>92.300403</td>\n",
       "      <td>92.307692</td>\n",
       "    </tr>\n",
       "    <tr>\n",
       "      <th>9</th>\n",
       "      <td>96.052632</td>\n",
       "      <td>97.822446</td>\n",
       "      <td>96.834774</td>\n",
       "      <td>96.837607</td>\n",
       "      <td>-</td>\n",
       "      <td>94.666667</td>\n",
       "      <td>98.611111</td>\n",
       "      <td>96.086930</td>\n",
       "      <td>96.153846</td>\n",
       "    </tr>\n",
       "    <tr>\n",
       "      <th>Average</th>\n",
       "      <td>96.091737</td>\n",
       "      <td>97.988620</td>\n",
       "      <td>96.909415</td>\n",
       "      <td>96.914530</td>\n",
       "      <td>-</td>\n",
       "      <td>88.910049</td>\n",
       "      <td>95.281422</td>\n",
       "      <td>91.389224</td>\n",
       "      <td>91.461538</td>\n",
       "    </tr>\n",
       "  </tbody>\n",
       "</table>\n",
       "</div>"
      ],
      "text/plain": [
       "         Train Precision  Train Recall  Train F1 Score  Train Accuracy  -  \\\n",
       "0              95.928339     97.678275       96.661279       96.666667  -   \n",
       "1              95.928339     98.003328       96.832922       96.837607  -   \n",
       "2              95.686901     98.036007       96.655700       96.666667  -   \n",
       "3              95.695364     97.470489       96.493859       96.495726  -   \n",
       "4              96.387521     97.833333       97.005219       97.008547  -   \n",
       "5              96.320000     98.366013       97.170208       97.179487  -   \n",
       "6              96.563011     98.169717       97.261428       97.264957  -   \n",
       "7              96.387521     97.996661       97.090948       97.094017  -   \n",
       "8              95.967742     98.509934       97.087814       97.094017  -   \n",
       "9              96.052632     97.822446       96.834774       96.837607  -   \n",
       "Average        96.091737     97.988620       96.909415       96.914530  -   \n",
       "\n",
       "         Test Precision  Test Recall  Test F1 Sccore  Test Accuracy  \n",
       "0             91.304348    95.454545       93.066667      93.076923  \n",
       "1             92.957746    97.058824       94.589452      94.615385  \n",
       "2             85.937500    94.827586       90.734141      90.769231  \n",
       "3             93.670886    97.368421       94.408602      94.615385  \n",
       "4             86.842105    95.652174       89.865067      90.000000  \n",
       "5             73.972603    94.736842       83.076923      83.076923  \n",
       "6             86.666667    95.588235       89.898990      90.000000  \n",
       "7             88.000000    94.285714       89.865067      90.000000  \n",
       "8             95.081967    89.230769       92.300403      92.307692  \n",
       "9             94.666667    98.611111       96.086930      96.153846  \n",
       "Average       88.910049    95.281422       91.389224      91.461538  "
      ]
     },
     "execution_count": 22,
     "metadata": {},
     "output_type": "execute_result"
    }
   ],
   "source": [
    "dfKFold = pd.DataFrame({\n",
    "    \"Train Precision\" : [item['precision'] for item in train_error],\n",
    "    \"Train Recall\" : [item['recall'] for item in train_error],\n",
    "    \"Train F1 Score\" : [item['f1'] for item in train_error],\n",
    "    \"Train Accuracy\" : [item['accuracy'] for item in train_error],\n",
    "    \"-\" : ['-' for item in train_error],\n",
    "    \"Test Precision\" : [item['precision'] for item in validation_error],\n",
    "    \"Test Recall\" : [item['recall'] for item in validation_error],\n",
    "    \"Test F1 Sccore\" : [item['f1'] for item in validation_error],\n",
    "    \"Test Accuracy\" : [item['accuracy'] for item in validation_error],\n",
    "})\n",
    "additional = []\n",
    "for item in dfKFold:\n",
    "    if item != '-':\n",
    "        additional.append(dfKFold[item].mean())\n",
    "    else:\n",
    "        additional.append('-')\n",
    "dfKFold = pd.concat([dfKFold,pd.DataFrame(\n",
    "    [additional],\n",
    "    index=['Average'], columns=dfKFold.columns\n",
    ")])\n",
    "dfKFold"
   ]
  },
  {
   "cell_type": "markdown",
   "metadata": {},
   "source": [
    "#### ROC AUC"
   ]
  },
  {
   "cell_type": "code",
   "execution_count": 23,
   "metadata": {},
   "outputs": [
    {
     "data": {
      "image/png": "[encoded data removed]",
      "text/plain": [
       "<Figure size 576x576 with 1 Axes>"
      ]
     },
     "metadata": {},
     "output_type": "display_data"
    }
   ],
   "source": [
    "preds = modelNB.predict_proba(xTest)[:,1]\n",
    "fpr, tpr, threshold = roc_curve(yTest, preds)\n",
    "roc_auc = auc(fpr, tpr)\n",
    "\n",
    "plt.figure(figsize=(8,8))\n",
    "plt.grid(True)\n",
    "plt.title('Receiver Operating Characterisitc')\n",
    "plt.plot(fpr, tpr, 'b', label='AUC = {}'.format(round(roc_auc,2)))\n",
    "plt.legend(loc = 'lower right')\n",
    "plt.plot([0,1], [0,1], 'r--')\n",
    "plt.ylabel('True Positive rate')\n",
    "plt.xlabel('False Positive rate')\n",
    "plt.show()"
   ]
  },
  {
   "cell_type": "markdown",
   "metadata": {},
   "source": [
    "## LinearSVC"
   ]
  },
  {
   "cell_type": "markdown",
   "metadata": {},
   "source": [
    "### Build Pipeline"
   ]
  },
  {
   "cell_type": "code",
   "execution_count": 24,
   "metadata": {},
   "outputs": [],
   "source": [
    "from sklearn.svm import SVC\n",
    "\n",
    "modelSVC = Pipeline([\n",
    "    ('bow', CountVectorizer()), \n",
    "    ('tfidf', TfidfTransformer()), \n",
    "    ('classifier', SVC(kernel='linear',probability=True)),\n",
    "])"
   ]
  },
  {
   "cell_type": "markdown",
   "metadata": {},
   "source": [
    "### Model Training"
   ]
  },
  {
   "cell_type": "code",
   "execution_count": 25,
   "metadata": {},
   "outputs": [
    {
     "data": {
      "text/plain": [
       "Pipeline(memory=None,\n",
       "         steps=[('bow',\n",
       "                 CountVectorizer(analyzer='word', binary=False,\n",
       "                                 decode_error='strict',\n",
       "                                 dtype=<class 'numpy.int64'>, encoding='utf-8',\n",
       "                                 input='content', lowercase=True, max_df=1.0,\n",
       "                                 max_features=None, min_df=1,\n",
       "                                 ngram_range=(1, 1), preprocessor=None,\n",
       "                                 stop_words=None, strip_accents=None,\n",
       "                                 token_pattern='(?u)\\\\b\\\\w\\\\w+\\\\b',\n",
       "                                 tokenizer=None, vocabulary=None)),\n",
       "                ('tfidf',\n",
       "                 TfidfTransformer(norm='l2', smooth_idf=True,\n",
       "                                  sublinear_tf=False, use_idf=True)),\n",
       "                ('classifier',\n",
       "                 SVC(C=1.0, cache_size=200, class_weight=None, coef0=0.0,\n",
       "                     decision_function_shape='ovr', degree=3,\n",
       "                     gamma='auto_deprecated', kernel='linear', max_iter=-1,\n",
       "                     probability=True, random_state=None, shrinking=True,\n",
       "                     tol=0.001, verbose=False))],\n",
       "         verbose=False)"
      ]
     },
     "execution_count": 25,
     "metadata": {},
     "output_type": "execute_result"
    }
   ],
   "source": [
    "modelSVC.fit(xTrain, yTrain)"
   ]
  },
  {
   "cell_type": "markdown",
   "metadata": {},
   "source": [
    "### Model Evaluation"
   ]
  },
  {
   "cell_type": "markdown",
   "metadata": {},
   "source": [
    "#### Train Evaluation"
   ]
  },
  {
   "cell_type": "code",
   "execution_count": 26,
   "metadata": {},
   "outputs": [
    {
     "name": "stdout",
     "output_type": "stream",
     "text": [
      "              precision    recall  f1-score   support\n",
      "\n",
      "           0       0.99      1.00      0.99       573\n",
      "           1       1.00      0.99      0.99       597\n",
      "\n",
      "    accuracy                           0.99      1170\n",
      "   macro avg       0.99      0.99      0.99      1170\n",
      "weighted avg       0.99      0.99      0.99      1170\n",
      "\n",
      "Accuracy =  99.15\n"
     ]
    },
    {
     "data": {
      "text/html": [
       "<div>\n",
       "<style scoped>\n",
       "    .dataframe tbody tr th:only-of-type {\n",
       "        vertical-align: middle;\n",
       "    }\n",
       "\n",
       "    .dataframe tbody tr th {\n",
       "        vertical-align: top;\n",
       "    }\n",
       "\n",
       "    .dataframe thead th {\n",
       "        text-align: right;\n",
       "    }\n",
       "</style>\n",
       "<table border=\"1\" class=\"dataframe\">\n",
       "  <thead>\n",
       "    <tr style=\"text-align: right;\">\n",
       "      <th></th>\n",
       "      <th>0 - predict</th>\n",
       "      <th>1 - predict</th>\n",
       "    </tr>\n",
       "  </thead>\n",
       "  <tbody>\n",
       "    <tr>\n",
       "      <th>0 - actual</th>\n",
       "      <td>571</td>\n",
       "      <td>2</td>\n",
       "    </tr>\n",
       "    <tr>\n",
       "      <th>1 - actual</th>\n",
       "      <td>8</td>\n",
       "      <td>589</td>\n",
       "    </tr>\n",
       "  </tbody>\n",
       "</table>\n",
       "</div>"
      ],
      "text/plain": [
       "            0 - predict  1 - predict\n",
       "0 - actual          571            2\n",
       "1 - actual            8          589"
      ]
     },
     "execution_count": 26,
     "metadata": {},
     "output_type": "execute_result"
    }
   ],
   "source": [
    "prediction = modelSVC.predict(xTrain)\n",
    "print(classification_report(yTrain,prediction))\n",
    "print('Accuracy = ', round(accuracy_score(yTrain,prediction)*100,2))\n",
    "pd.DataFrame(confusion_matrix(yTrain, prediction), columns=['0 - predict', '1 - predict'], index=['0 - actual', '1 - actual'])"
   ]
  },
  {
   "cell_type": "markdown",
   "metadata": {},
   "source": [
    "#### Test Evaluation"
   ]
  },
  {
   "cell_type": "code",
   "execution_count": 27,
   "metadata": {},
   "outputs": [
    {
     "name": "stdout",
     "output_type": "stream",
     "text": [
      "              precision    recall  f1-score   support\n",
      "\n",
      "           0       0.93      0.98      0.96        58\n",
      "           1       0.99      0.94      0.96        72\n",
      "\n",
      "    accuracy                           0.96       130\n",
      "   macro avg       0.96      0.96      0.96       130\n",
      "weighted avg       0.96      0.96      0.96       130\n",
      "\n",
      "Accuracy =  96.15\n"
     ]
    },
    {
     "data": {
      "text/html": [
       "<div>\n",
       "<style scoped>\n",
       "    .dataframe tbody tr th:only-of-type {\n",
       "        vertical-align: middle;\n",
       "    }\n",
       "\n",
       "    .dataframe tbody tr th {\n",
       "        vertical-align: top;\n",
       "    }\n",
       "\n",
       "    .dataframe thead th {\n",
       "        text-align: right;\n",
       "    }\n",
       "</style>\n",
       "<table border=\"1\" class=\"dataframe\">\n",
       "  <thead>\n",
       "    <tr style=\"text-align: right;\">\n",
       "      <th></th>\n",
       "      <th>0 - predict</th>\n",
       "      <th>1 - predict</th>\n",
       "    </tr>\n",
       "  </thead>\n",
       "  <tbody>\n",
       "    <tr>\n",
       "      <th>0 - actual</th>\n",
       "      <td>57</td>\n",
       "      <td>1</td>\n",
       "    </tr>\n",
       "    <tr>\n",
       "      <th>1 - actual</th>\n",
       "      <td>4</td>\n",
       "      <td>68</td>\n",
       "    </tr>\n",
       "  </tbody>\n",
       "</table>\n",
       "</div>"
      ],
      "text/plain": [
       "            0 - predict  1 - predict\n",
       "0 - actual           57            1\n",
       "1 - actual            4           68"
      ]
     },
     "execution_count": 27,
     "metadata": {},
     "output_type": "execute_result"
    }
   ],
   "source": [
    "prediction = modelSVC.predict(xTest)\n",
    "print(classification_report(yTest,prediction))\n",
    "print('Accuracy = ', round(accuracy_score(yTest,prediction)*100,2))\n",
    "pd.DataFrame(confusion_matrix(yTest, prediction), columns=['0 - predict', '1 - predict'], index=['0 - actual', '1 - actual'])"
   ]
  },
  {
   "cell_type": "markdown",
   "metadata": {},
   "source": [
    "#### Consistency Evaluation"
   ]
  },
  {
   "cell_type": "code",
   "execution_count": 28,
   "metadata": {},
   "outputs": [],
   "source": [
    "from sklearn.model_selection import KFold\n",
    "kf = KFold(n_splits=10, shuffle=True, random_state=42)\n",
    "data = df['CommentProcessed']\n",
    "target = df['Class']\n",
    "train_error = []\n",
    "validation_error = []\n",
    "for trainIndex, valIndex in kf.split(data, target):\n",
    "    xTrain, xTest = data.iloc[trainIndex], data.iloc[valIndex]\n",
    "    yTrain, yTest = target.iloc[trainIndex], target.iloc[valIndex]\n",
    "    \n",
    "    trainError, valError = calculation_metrics(xTrain, yTrain, xTest, yTest, modelSVC)\n",
    "    \n",
    "    train_error.append(trainError)\n",
    "    validation_error.append(valError)"
   ]
  },
  {
   "cell_type": "code",
   "execution_count": 29,
   "metadata": {},
   "outputs": [
    {
     "data": {
      "text/html": [
       "<div>\n",
       "<style scoped>\n",
       "    .dataframe tbody tr th:only-of-type {\n",
       "        vertical-align: middle;\n",
       "    }\n",
       "\n",
       "    .dataframe tbody tr th {\n",
       "        vertical-align: top;\n",
       "    }\n",
       "\n",
       "    .dataframe thead th {\n",
       "        text-align: right;\n",
       "    }\n",
       "</style>\n",
       "<table border=\"1\" class=\"dataframe\">\n",
       "  <thead>\n",
       "    <tr style=\"text-align: right;\">\n",
       "      <th></th>\n",
       "      <th>Train Precision</th>\n",
       "      <th>Train Recall</th>\n",
       "      <th>Train F1 Score</th>\n",
       "      <th>Train Accuracy</th>\n",
       "      <th>-</th>\n",
       "      <th>Test Precision</th>\n",
       "      <th>Tesbt Recall</th>\n",
       "      <th>Test F1 Sccore</th>\n",
       "      <th>Test Accuracy</th>\n",
       "    </tr>\n",
       "  </thead>\n",
       "  <tbody>\n",
       "    <tr>\n",
       "      <th>0</th>\n",
       "      <td>99.334443</td>\n",
       "      <td>99.004975</td>\n",
       "      <td>99.144577</td>\n",
       "      <td>99.145299</td>\n",
       "      <td>-</td>\n",
       "      <td>98.461538</td>\n",
       "      <td>96.969697</td>\n",
       "      <td>97.692171</td>\n",
       "      <td>97.692308</td>\n",
       "    </tr>\n",
       "    <tr>\n",
       "      <th>1</th>\n",
       "      <td>99.495798</td>\n",
       "      <td>98.502496</td>\n",
       "      <td>98.973852</td>\n",
       "      <td>98.974359</td>\n",
       "      <td>-</td>\n",
       "      <td>98.529412</td>\n",
       "      <td>98.529412</td>\n",
       "      <td>98.458254</td>\n",
       "      <td>98.461538</td>\n",
       "    </tr>\n",
       "    <tr>\n",
       "      <th>2</th>\n",
       "      <td>99.503311</td>\n",
       "      <td>98.363339</td>\n",
       "      <td>98.887243</td>\n",
       "      <td>98.888889</td>\n",
       "      <td>-</td>\n",
       "      <td>100.000000</td>\n",
       "      <td>91.379310</td>\n",
       "      <td>96.069895</td>\n",
       "      <td>96.153846</td>\n",
       "    </tr>\n",
       "    <tr>\n",
       "      <th>3</th>\n",
       "      <td>99.489796</td>\n",
       "      <td>98.650927</td>\n",
       "      <td>99.059746</td>\n",
       "      <td>99.059829</td>\n",
       "      <td>-</td>\n",
       "      <td>98.630137</td>\n",
       "      <td>94.736842</td>\n",
       "      <td>96.069895</td>\n",
       "      <td>96.153846</td>\n",
       "    </tr>\n",
       "    <tr>\n",
       "      <th>4</th>\n",
       "      <td>99.494098</td>\n",
       "      <td>98.333333</td>\n",
       "      <td>98.888459</td>\n",
       "      <td>98.888889</td>\n",
       "      <td>-</td>\n",
       "      <td>95.454545</td>\n",
       "      <td>91.304348</td>\n",
       "      <td>93.066667</td>\n",
       "      <td>93.076923</td>\n",
       "    </tr>\n",
       "    <tr>\n",
       "      <th>5</th>\n",
       "      <td>99.669967</td>\n",
       "      <td>98.692810</td>\n",
       "      <td>99.143858</td>\n",
       "      <td>99.145299</td>\n",
       "      <td>-</td>\n",
       "      <td>94.736842</td>\n",
       "      <td>94.736842</td>\n",
       "      <td>95.313627</td>\n",
       "      <td>95.384615</td>\n",
       "    </tr>\n",
       "    <tr>\n",
       "      <th>6</th>\n",
       "      <td>99.495798</td>\n",
       "      <td>98.502496</td>\n",
       "      <td>98.973852</td>\n",
       "      <td>98.974359</td>\n",
       "      <td>-</td>\n",
       "      <td>95.588235</td>\n",
       "      <td>95.588235</td>\n",
       "      <td>95.374763</td>\n",
       "      <td>95.384615</td>\n",
       "    </tr>\n",
       "    <tr>\n",
       "      <th>7</th>\n",
       "      <td>99.493243</td>\n",
       "      <td>98.330551</td>\n",
       "      <td>98.888531</td>\n",
       "      <td>98.888889</td>\n",
       "      <td>-</td>\n",
       "      <td>95.588235</td>\n",
       "      <td>92.857143</td>\n",
       "      <td>93.822761</td>\n",
       "      <td>93.846154</td>\n",
       "    </tr>\n",
       "    <tr>\n",
       "      <th>8</th>\n",
       "      <td>99.501661</td>\n",
       "      <td>99.172185</td>\n",
       "      <td>99.315591</td>\n",
       "      <td>99.316239</td>\n",
       "      <td>-</td>\n",
       "      <td>100.000000</td>\n",
       "      <td>87.692308</td>\n",
       "      <td>93.822761</td>\n",
       "      <td>93.846154</td>\n",
       "    </tr>\n",
       "    <tr>\n",
       "      <th>9</th>\n",
       "      <td>99.661591</td>\n",
       "      <td>98.659966</td>\n",
       "      <td>99.145097</td>\n",
       "      <td>99.145299</td>\n",
       "      <td>-</td>\n",
       "      <td>98.550725</td>\n",
       "      <td>94.444444</td>\n",
       "      <td>96.126110</td>\n",
       "      <td>96.153846</td>\n",
       "    </tr>\n",
       "    <tr>\n",
       "      <th>Average</th>\n",
       "      <td>99.513971</td>\n",
       "      <td>98.621308</td>\n",
       "      <td>99.042081</td>\n",
       "      <td>99.042735</td>\n",
       "      <td>-</td>\n",
       "      <td>97.553967</td>\n",
       "      <td>93.823858</td>\n",
       "      <td>95.581690</td>\n",
       "      <td>95.615385</td>\n",
       "    </tr>\n",
       "  </tbody>\n",
       "</table>\n",
       "</div>"
      ],
      "text/plain": [
       "         Train Precision  Train Recall  Train F1 Score  Train Accuracy  -  \\\n",
       "0              99.334443     99.004975       99.144577       99.145299  -   \n",
       "1              99.495798     98.502496       98.973852       98.974359  -   \n",
       "2              99.503311     98.363339       98.887243       98.888889  -   \n",
       "3              99.489796     98.650927       99.059746       99.059829  -   \n",
       "4              99.494098     98.333333       98.888459       98.888889  -   \n",
       "5              99.669967     98.692810       99.143858       99.145299  -   \n",
       "6              99.495798     98.502496       98.973852       98.974359  -   \n",
       "7              99.493243     98.330551       98.888531       98.888889  -   \n",
       "8              99.501661     99.172185       99.315591       99.316239  -   \n",
       "9              99.661591     98.659966       99.145097       99.145299  -   \n",
       "Average        99.513971     98.621308       99.042081       99.042735  -   \n",
       "\n",
       "         Test Precision  Tesbt Recall  Test F1 Sccore  Test Accuracy  \n",
       "0             98.461538     96.969697       97.692171      97.692308  \n",
       "1             98.529412     98.529412       98.458254      98.461538  \n",
       "2            100.000000     91.379310       96.069895      96.153846  \n",
       "3             98.630137     94.736842       96.069895      96.153846  \n",
       "4             95.454545     91.304348       93.066667      93.076923  \n",
       "5             94.736842     94.736842       95.313627      95.384615  \n",
       "6             95.588235     95.588235       95.374763      95.384615  \n",
       "7             95.588235     92.857143       93.822761      93.846154  \n",
       "8            100.000000     87.692308       93.822761      93.846154  \n",
       "9             98.550725     94.444444       96.126110      96.153846  \n",
       "Average       97.553967     93.823858       95.581690      95.615385  "
      ]
     },
     "execution_count": 29,
     "metadata": {},
     "output_type": "execute_result"
    }
   ],
   "source": [
    "dfKFold = pd.DataFrame({\n",
    "    \"Train Precision\" : [item['precision'] for item in train_error],\n",
    "    \"Train Recall\" : [item['recall'] for item in train_error],\n",
    "    \"Train F1 Score\" : [item['f1'] for item in train_error],\n",
    "    \"Train Accuracy\" : [item['accuracy'] for item in train_error],\n",
    "    \"-\" : ['-' for item in train_error],\n",
    "    \"Test Precision\" : [item['precision'] for item in validation_error],\n",
    "    \"Tesbt Recall\" : [item['recall'] for item in validation_error],\n",
    "    \"Test F1 Sccore\" : [item['f1'] for item in validation_error],\n",
    "    \"Test Accuracy\" : [item['accuracy'] for item in validation_error],\n",
    "})\n",
    "additional = []\n",
    "for item in dfKFold:\n",
    "    if item != '-':\n",
    "        additional.append(dfKFold[item].mean())\n",
    "    else:\n",
    "        additional.append('-')\n",
    "dfKFold = pd.concat([dfKFold,pd.DataFrame(\n",
    "    [additional],\n",
    "    index=['Average'], columns=dfKFold.columns\n",
    ")])\n",
    "dfKFold"
   ]
  },
  {
   "cell_type": "markdown",
   "metadata": {},
   "source": [
    "#### ROC AUC"
   ]
  },
  {
   "cell_type": "code",
   "execution_count": 30,
   "metadata": {},
   "outputs": [
    {
     "data": {
      "image/png": "[encoded data removed]",
      "text/plain": [
       "<Figure size 576x576 with 1 Axes>"
      ]
     },
     "metadata": {},
     "output_type": "display_data"
    }
   ],
   "source": [
    "preds = modelSVC.predict_proba(xTest)[:,1]\n",
    "fpr, tpr, threshold = roc_curve(yTest, preds)\n",
    "roc_auc = auc(fpr, tpr)\n",
    "\n",
    "plt.figure(figsize=(8,8))\n",
    "plt.grid(True)\n",
    "plt.title('Receiver Operating Characterisitc')\n",
    "plt.plot(fpr, tpr, 'b', label='AUC = {}'.format(round(roc_auc,2)))\n",
    "plt.legend(loc = 'lower right')\n",
    "plt.plot([0,1], [0,1], 'r--')\n",
    "plt.ylabel('True Positive rate')\n",
    "plt.xlabel('False Positive rate')\n",
    "plt.show()"
   ]
  },
  {
   "cell_type": "markdown",
   "metadata": {},
   "source": [
    "## Random Forest"
   ]
  },
  {
   "cell_type": "markdown",
   "metadata": {},
   "source": [
    "### Buils Pipeline"
   ]
  },
  {
   "cell_type": "code",
   "execution_count": 31,
   "metadata": {},
   "outputs": [],
   "source": [
    "from sklearn.ensemble import RandomForestClassifier\n",
    "\n",
    "modelRF = Pipeline([\n",
    "    ('bow', CountVectorizer()), \n",
    "    ('tfidf', TfidfTransformer()), \n",
    "    ('classifier', RandomForestClassifier()),\n",
    "])"
   ]
  },
  {
   "cell_type": "markdown",
   "metadata": {},
   "source": [
    "### Model Training"
   ]
  },
  {
   "cell_type": "code",
   "execution_count": 32,
   "metadata": {},
   "outputs": [
    {
     "name": "stderr",
     "output_type": "stream",
     "text": [
      "c:\\users\\m. khakim hidayad\\appdata\\local\\programs\\python\\python37\\lib\\site-packages\\sklearn\\ensemble\\forest.py:245: FutureWarning: The default value of n_estimators will change from 10 in version 0.20 to 100 in 0.22.\n",
      "  \"10 in version 0.20 to 100 in 0.22.\", FutureWarning)\n"
     ]
    },
    {
     "data": {
      "text/plain": [
       "Pipeline(memory=None,\n",
       "         steps=[('bow',\n",
       "                 CountVectorizer(analyzer='word', binary=False,\n",
       "                                 decode_error='strict',\n",
       "                                 dtype=<class 'numpy.int64'>, encoding='utf-8',\n",
       "                                 input='content', lowercase=True, max_df=1.0,\n",
       "                                 max_features=None, min_df=1,\n",
       "                                 ngram_range=(1, 1), preprocessor=None,\n",
       "                                 stop_words=None, strip_accents=None,\n",
       "                                 token_pattern='(?u)\\\\b\\\\w\\\\w+\\\\b',\n",
       "                                 tokenizer=None, vocabulary=None...\n",
       "                 RandomForestClassifier(bootstrap=True, class_weight=None,\n",
       "                                        criterion='gini', max_depth=None,\n",
       "                                        max_features='auto',\n",
       "                                        max_leaf_nodes=None,\n",
       "                                        min_impurity_decrease=0.0,\n",
       "                                        min_impurity_split=None,\n",
       "                                        min_samples_leaf=1, min_samples_split=2,\n",
       "                                        min_weight_fraction_leaf=0.0,\n",
       "                                        n_estimators=10, n_jobs=None,\n",
       "                                        oob_score=False, random_state=None,\n",
       "                                        verbose=0, warm_start=False))],\n",
       "         verbose=False)"
      ]
     },
     "execution_count": 32,
     "metadata": {},
     "output_type": "execute_result"
    }
   ],
   "source": [
    "modelRF.fit(xTrain, yTrain)"
   ]
  },
  {
   "cell_type": "markdown",
   "metadata": {},
   "source": [
    "### Model Evaluation"
   ]
  },
  {
   "cell_type": "markdown",
   "metadata": {},
   "source": [
    "#### Train Evaluation"
   ]
  },
  {
   "cell_type": "code",
   "execution_count": 33,
   "metadata": {},
   "outputs": [
    {
     "name": "stdout",
     "output_type": "stream",
     "text": [
      "              precision    recall  f1-score   support\n",
      "\n",
      "           0       0.99      1.00      1.00       573\n",
      "           1       1.00      0.99      1.00       597\n",
      "\n",
      "    accuracy                           1.00      1170\n",
      "   macro avg       1.00      1.00      1.00      1170\n",
      "weighted avg       1.00      1.00      1.00      1170\n",
      "\n",
      "Accuracy =  99.66\n"
     ]
    },
    {
     "data": {
      "text/html": [
       "<div>\n",
       "<style scoped>\n",
       "    .dataframe tbody tr th:only-of-type {\n",
       "        vertical-align: middle;\n",
       "    }\n",
       "\n",
       "    .dataframe tbody tr th {\n",
       "        vertical-align: top;\n",
       "    }\n",
       "\n",
       "    .dataframe thead th {\n",
       "        text-align: right;\n",
       "    }\n",
       "</style>\n",
       "<table border=\"1\" class=\"dataframe\">\n",
       "  <thead>\n",
       "    <tr style=\"text-align: right;\">\n",
       "      <th></th>\n",
       "      <th>0 - predict</th>\n",
       "      <th>1 - predict</th>\n",
       "    </tr>\n",
       "  </thead>\n",
       "  <tbody>\n",
       "    <tr>\n",
       "      <th>0 - actual</th>\n",
       "      <td>573</td>\n",
       "      <td>0</td>\n",
       "    </tr>\n",
       "    <tr>\n",
       "      <th>1 - actual</th>\n",
       "      <td>4</td>\n",
       "      <td>593</td>\n",
       "    </tr>\n",
       "  </tbody>\n",
       "</table>\n",
       "</div>"
      ],
      "text/plain": [
       "            0 - predict  1 - predict\n",
       "0 - actual          573            0\n",
       "1 - actual            4          593"
      ]
     },
     "execution_count": 33,
     "metadata": {},
     "output_type": "execute_result"
    }
   ],
   "source": [
    "prediction = modelRF.predict(xTrain)\n",
    "print(classification_report(yTrain,prediction))\n",
    "print('Accuracy = ', round(accuracy_score(yTrain,prediction)*100,2))\n",
    "pd.DataFrame(confusion_matrix(yTrain, prediction), columns=['0 - predict', '1 - predict'], index=['0 - actual', '1 - actual'])"
   ]
  },
  {
   "cell_type": "markdown",
   "metadata": {},
   "source": [
    "#### Test Evaluation"
   ]
  },
  {
   "cell_type": "code",
   "execution_count": 34,
   "metadata": {},
   "outputs": [
    {
     "name": "stdout",
     "output_type": "stream",
     "text": [
      "              precision    recall  f1-score   support\n",
      "\n",
      "           0       0.92      0.98      0.95        58\n",
      "           1       0.99      0.93      0.96        72\n",
      "\n",
      "    accuracy                           0.95       130\n",
      "   macro avg       0.95      0.96      0.95       130\n",
      "weighted avg       0.96      0.95      0.95       130\n",
      "\n",
      "Accuracy =  95.38\n"
     ]
    },
    {
     "data": {
      "text/html": [
       "<div>\n",
       "<style scoped>\n",
       "    .dataframe tbody tr th:only-of-type {\n",
       "        vertical-align: middle;\n",
       "    }\n",
       "\n",
       "    .dataframe tbody tr th {\n",
       "        vertical-align: top;\n",
       "    }\n",
       "\n",
       "    .dataframe thead th {\n",
       "        text-align: right;\n",
       "    }\n",
       "</style>\n",
       "<table border=\"1\" class=\"dataframe\">\n",
       "  <thead>\n",
       "    <tr style=\"text-align: right;\">\n",
       "      <th></th>\n",
       "      <th>0 - predict</th>\n",
       "      <th>1 - predict</th>\n",
       "    </tr>\n",
       "  </thead>\n",
       "  <tbody>\n",
       "    <tr>\n",
       "      <th>0 - actual</th>\n",
       "      <td>57</td>\n",
       "      <td>1</td>\n",
       "    </tr>\n",
       "    <tr>\n",
       "      <th>1 - actual</th>\n",
       "      <td>5</td>\n",
       "      <td>67</td>\n",
       "    </tr>\n",
       "  </tbody>\n",
       "</table>\n",
       "</div>"
      ],
      "text/plain": [
       "            0 - predict  1 - predict\n",
       "0 - actual           57            1\n",
       "1 - actual            5           67"
      ]
     },
     "execution_count": 34,
     "metadata": {},
     "output_type": "execute_result"
    }
   ],
   "source": [
    "prediction = modelRF.predict(xTest)\n",
    "print(classification_report(yTest,prediction))\n",
    "print('Accuracy = ', round(accuracy_score(yTest,prediction)*100,2))\n",
    "pd.DataFrame(confusion_matrix(yTest, prediction), columns=['0 - predict', '1 - predict'], index=['0 - actual', '1 - actual'])"
   ]
  },
  {
   "cell_type": "markdown",
   "metadata": {},
   "source": [
    "#### Consistency Evaluation"
   ]
  },
  {
   "cell_type": "code",
   "execution_count": 35,
   "metadata": {},
   "outputs": [],
   "source": [
    "from sklearn.model_selection import KFold\n",
    "kf = KFold(n_splits=10, shuffle=True, random_state=42)\n",
    "data = df['CommentProcessed']\n",
    "target = df['Class']\n",
    "train_error = []\n",
    "validation_error = []\n",
    "for trainIndex, valIndex in kf.split(data, target):\n",
    "    xTrain, xTest = data.iloc[trainIndex], data.iloc[valIndex]\n",
    "    yTrain, yTest = target.iloc[trainIndex], target.iloc[valIndex]\n",
    "    \n",
    "    trainError, valError = calculation_metrics(xTrain, yTrain, xTest, yTest, modelRF)\n",
    "    \n",
    "    train_error.append(trainError)\n",
    "    validation_error.append(valError)"
   ]
  },
  {
   "cell_type": "code",
   "execution_count": 36,
   "metadata": {},
   "outputs": [
    {
     "data": {
      "text/html": [
       "<div>\n",
       "<style scoped>\n",
       "    .dataframe tbody tr th:only-of-type {\n",
       "        vertical-align: middle;\n",
       "    }\n",
       "\n",
       "    .dataframe tbody tr th {\n",
       "        vertical-align: top;\n",
       "    }\n",
       "\n",
       "    .dataframe thead th {\n",
       "        text-align: right;\n",
       "    }\n",
       "</style>\n",
       "<table border=\"1\" class=\"dataframe\">\n",
       "  <thead>\n",
       "    <tr style=\"text-align: right;\">\n",
       "      <th></th>\n",
       "      <th>Train Precision</th>\n",
       "      <th>Train Recall</th>\n",
       "      <th>Train F1 Score</th>\n",
       "      <th>Train Accuracy</th>\n",
       "      <th>-</th>\n",
       "      <th>Test Precision</th>\n",
       "      <th>Tesbt Recall</th>\n",
       "      <th>Test F1 Sccore</th>\n",
       "      <th>Test Accuracy</th>\n",
       "    </tr>\n",
       "  </thead>\n",
       "  <tbody>\n",
       "    <tr>\n",
       "      <th>0</th>\n",
       "      <td>99.833055</td>\n",
       "      <td>99.170813</td>\n",
       "      <td>99.486796</td>\n",
       "      <td>99.487179</td>\n",
       "      <td>-</td>\n",
       "      <td>95.454545</td>\n",
       "      <td>95.454545</td>\n",
       "      <td>95.383523</td>\n",
       "      <td>95.384615</td>\n",
       "    </tr>\n",
       "    <tr>\n",
       "      <th>1</th>\n",
       "      <td>100.000000</td>\n",
       "      <td>99.001664</td>\n",
       "      <td>99.486926</td>\n",
       "      <td>99.487179</td>\n",
       "      <td>-</td>\n",
       "      <td>100.000000</td>\n",
       "      <td>92.647059</td>\n",
       "      <td>96.153619</td>\n",
       "      <td>96.153846</td>\n",
       "    </tr>\n",
       "    <tr>\n",
       "      <th>2</th>\n",
       "      <td>100.000000</td>\n",
       "      <td>98.854337</td>\n",
       "      <td>99.400823</td>\n",
       "      <td>99.401709</td>\n",
       "      <td>-</td>\n",
       "      <td>100.000000</td>\n",
       "      <td>86.206897</td>\n",
       "      <td>93.664717</td>\n",
       "      <td>93.846154</td>\n",
       "    </tr>\n",
       "    <tr>\n",
       "      <th>3</th>\n",
       "      <td>100.000000</td>\n",
       "      <td>98.145025</td>\n",
       "      <td>99.059812</td>\n",
       "      <td>99.059829</td>\n",
       "      <td>-</td>\n",
       "      <td>100.000000</td>\n",
       "      <td>82.894737</td>\n",
       "      <td>89.951840</td>\n",
       "      <td>90.000000</td>\n",
       "    </tr>\n",
       "    <tr>\n",
       "      <th>4</th>\n",
       "      <td>100.000000</td>\n",
       "      <td>99.000000</td>\n",
       "      <td>99.486964</td>\n",
       "      <td>99.487179</td>\n",
       "      <td>-</td>\n",
       "      <td>96.825397</td>\n",
       "      <td>88.405797</td>\n",
       "      <td>92.305871</td>\n",
       "      <td>92.307692</td>\n",
       "    </tr>\n",
       "    <tr>\n",
       "      <th>5</th>\n",
       "      <td>100.000000</td>\n",
       "      <td>99.019608</td>\n",
       "      <td>99.486315</td>\n",
       "      <td>99.487179</td>\n",
       "      <td>-</td>\n",
       "      <td>94.642857</td>\n",
       "      <td>92.982456</td>\n",
       "      <td>94.521702</td>\n",
       "      <td>94.615385</td>\n",
       "    </tr>\n",
       "    <tr>\n",
       "      <th>6</th>\n",
       "      <td>100.000000</td>\n",
       "      <td>99.667221</td>\n",
       "      <td>99.828947</td>\n",
       "      <td>99.829060</td>\n",
       "      <td>-</td>\n",
       "      <td>95.522388</td>\n",
       "      <td>94.117647</td>\n",
       "      <td>94.607407</td>\n",
       "      <td>94.615385</td>\n",
       "    </tr>\n",
       "    <tr>\n",
       "      <th>7</th>\n",
       "      <td>100.000000</td>\n",
       "      <td>99.165275</td>\n",
       "      <td>99.572484</td>\n",
       "      <td>99.572650</td>\n",
       "      <td>-</td>\n",
       "      <td>96.825397</td>\n",
       "      <td>87.142857</td>\n",
       "      <td>91.533953</td>\n",
       "      <td>91.538462</td>\n",
       "    </tr>\n",
       "    <tr>\n",
       "      <th>8</th>\n",
       "      <td>100.000000</td>\n",
       "      <td>99.006623</td>\n",
       "      <td>99.486796</td>\n",
       "      <td>99.487179</td>\n",
       "      <td>-</td>\n",
       "      <td>96.428571</td>\n",
       "      <td>83.076923</td>\n",
       "      <td>89.951840</td>\n",
       "      <td>90.000000</td>\n",
       "    </tr>\n",
       "    <tr>\n",
       "      <th>9</th>\n",
       "      <td>99.663866</td>\n",
       "      <td>99.329983</td>\n",
       "      <td>99.486998</td>\n",
       "      <td>99.487179</td>\n",
       "      <td>-</td>\n",
       "      <td>98.437500</td>\n",
       "      <td>87.500000</td>\n",
       "      <td>92.291271</td>\n",
       "      <td>92.307692</td>\n",
       "    </tr>\n",
       "    <tr>\n",
       "      <th>Average</th>\n",
       "      <td>99.949692</td>\n",
       "      <td>99.036055</td>\n",
       "      <td>99.478286</td>\n",
       "      <td>99.478632</td>\n",
       "      <td>-</td>\n",
       "      <td>97.413666</td>\n",
       "      <td>89.042892</td>\n",
       "      <td>93.036574</td>\n",
       "      <td>93.076923</td>\n",
       "    </tr>\n",
       "  </tbody>\n",
       "</table>\n",
       "</div>"
      ],
      "text/plain": [
       "         Train Precision  Train Recall  Train F1 Score  Train Accuracy  -  \\\n",
       "0              99.833055     99.170813       99.486796       99.487179  -   \n",
       "1             100.000000     99.001664       99.486926       99.487179  -   \n",
       "2             100.000000     98.854337       99.400823       99.401709  -   \n",
       "3             100.000000     98.145025       99.059812       99.059829  -   \n",
       "4             100.000000     99.000000       99.486964       99.487179  -   \n",
       "5             100.000000     99.019608       99.486315       99.487179  -   \n",
       "6             100.000000     99.667221       99.828947       99.829060  -   \n",
       "7             100.000000     99.165275       99.572484       99.572650  -   \n",
       "8             100.000000     99.006623       99.486796       99.487179  -   \n",
       "9              99.663866     99.329983       99.486998       99.487179  -   \n",
       "Average        99.949692     99.036055       99.478286       99.478632  -   \n",
       "\n",
       "         Test Precision  Tesbt Recall  Test F1 Sccore  Test Accuracy  \n",
       "0             95.454545     95.454545       95.383523      95.384615  \n",
       "1            100.000000     92.647059       96.153619      96.153846  \n",
       "2            100.000000     86.206897       93.664717      93.846154  \n",
       "3            100.000000     82.894737       89.951840      90.000000  \n",
       "4             96.825397     88.405797       92.305871      92.307692  \n",
       "5             94.642857     92.982456       94.521702      94.615385  \n",
       "6             95.522388     94.117647       94.607407      94.615385  \n",
       "7             96.825397     87.142857       91.533953      91.538462  \n",
       "8             96.428571     83.076923       89.951840      90.000000  \n",
       "9             98.437500     87.500000       92.291271      92.307692  \n",
       "Average       97.413666     89.042892       93.036574      93.076923  "
      ]
     },
     "execution_count": 36,
     "metadata": {},
     "output_type": "execute_result"
    }
   ],
   "source": [
    "dfKFold = pd.DataFrame({\n",
    "    \"Train Precision\" : [item['precision'] for item in train_error],\n",
    "    \"Train Recall\" : [item['recall'] for item in train_error],\n",
    "    \"Train F1 Score\" : [item['f1'] for item in train_error],\n",
    "    \"Train Accuracy\" : [item['accuracy'] for item in train_error],\n",
    "    \"-\" : ['-' for item in train_error],\n",
    "    \"Test Precision\" : [item['precision'] for item in validation_error],\n",
    "    \"Tesbt Recall\" : [item['recall'] for item in validation_error],\n",
    "    \"Test F1 Sccore\" : [item['f1'] for item in validation_error],\n",
    "    \"Test Accuracy\" : [item['accuracy'] for item in validation_error],\n",
    "})\n",
    "additional = []\n",
    "for item in dfKFold:\n",
    "    if item != '-':\n",
    "        additional.append(dfKFold[item].mean())\n",
    "    else:\n",
    "        additional.append('-')\n",
    "dfKFold = pd.concat([dfKFold,pd.DataFrame(\n",
    "    [additional],\n",
    "    index=['Average'], columns=dfKFold.columns\n",
    ")])\n",
    "dfKFold"
   ]
  },
  {
   "cell_type": "markdown",
   "metadata": {},
   "source": [
    "#### ROC AUC"
   ]
  },
  {
   "cell_type": "code",
   "execution_count": 37,
   "metadata": {},
   "outputs": [
    {
     "data": {
      "image/png": "[encoded data removed]",
      "text/plain": [
       "<Figure size 576x576 with 1 Axes>"
      ]
     },
     "metadata": {},
     "output_type": "display_data"
    }
   ],
   "source": [
    "preds = modelRF.predict_proba(xTest)[:,1]\n",
    "fpr, tpr, threshold = roc_curve(yTest, preds)\n",
    "roc_auc = auc(fpr, tpr)\n",
    "\n",
    "plt.figure(figsize=(8,8))\n",
    "plt.grid(True)\n",
    "plt.title('Receiver Operating Characterisitc')\n",
    "plt.plot(fpr, tpr, 'b', label='AUC = {}'.format(round(roc_auc,2)))\n",
    "plt.legend(loc = 'lower right')\n",
    "plt.plot([0,1], [0,1], 'r--')\n",
    "plt.ylabel('True Positive rate')\n",
    "plt.xlabel('False Positive rate')\n",
    "plt.show()"
   ]
  },
  {
   "cell_type": "markdown",
   "metadata": {},
   "source": [
    "## Summary"
   ]
  },
  {
   "cell_type": "markdown",
   "metadata": {},
   "source": [
    "We actually need model with good precision score when predicting spam. Because we don't want to predict ham / legitimate comment that might be important for us into spam. There are 2 model which have good precision score, LinearSVC and Random Forest. I decided to chose LinearSVC over Random Forest because it has better score for other metrics. Our LinearCSV model also have better consistency for precision score than Random Forest"
   ]
  },
  {
   "cell_type": "markdown",
   "metadata": {},
   "source": [
    "## API Documentation"
   ]
  },
  {
   "cell_type": "markdown",
   "metadata": {},
   "source": [
    "you can do prediction through this link http://khakimh-nlp.herokuapp.com/. <br>"
   ]
  },
  {
   "cell_type": "markdown",
   "metadata": {},
   "source": [
    "> NOTE : \n",
    "> <br>It might be take a while to connect since we are using free hosting app from heroku and they are set the app to sleep after 30 minutes unused"
   ]
  },
  {
   "cell_type": "markdown",
   "metadata": {},
   "source": [
    "You can send json file using this format:\n",
    "```sh\n",
    "{\n",
    "    \"text\" : your_comment,\n",
    "    \"type\" : \"comment\"\n",
    "}\n",
    "```"
   ]
  },
  {
   "cell_type": "markdown",
   "metadata": {},
   "source": [
    "and it will return something like:\n",
    "```sh\n",
    "{\n",
    "    \"prediction\": prediction\n",
    "}\n",
    "```"
   ]
  }
 ],
 "metadata": {
  "kernelspec": {
   "display_name": "Python 3",
   "language": "python",
   "name": "python3"
  },
  "language_info": {
   "codemirror_mode": {
    "name": "ipython",
    "version": 3
   },
   "file_extension": ".py",
   "mimetype": "text/x-python",
   "name": "python",
   "nbconvert_exporter": "python",
   "pygments_lexer": "ipython3",
   "version": "3.7.4"
  }
 },
 "nbformat": 4,
 "nbformat_minor": 4
}
